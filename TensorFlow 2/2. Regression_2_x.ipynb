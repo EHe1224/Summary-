{
 "cells": [
  {
   "cell_type": "code",
   "execution_count": 3,
   "metadata": {},
   "outputs": [
    {
     "name": "stdout",
     "output_type": "stream",
     "text": [
      "2.3.0-rc2\n"
     ]
    }
   ],
   "source": [
    "import tensorflow as tf\n",
    "import numpy as np\n",
    "import matplotlib.pyplot as plt\n",
    "import random\n",
    "\n",
    "print(tf.__version__)"
   ]
  },
  {
   "cell_type": "markdown",
   "metadata": {},
   "source": [
    "## 1. Linear Regression\n",
    "    - Linear regression indicates the data's character well."
   ]
  },
  {
   "cell_type": "markdown",
   "metadata": {},
   "source": [
    "### 1.1)population growth rate and elderly population ratio by region"
   ]
  },
  {
   "cell_type": "code",
   "execution_count": 17,
   "metadata": {},
   "outputs": [
    {
     "data": {
      "image/png": "[encoded data removed]",
      "text/plain": [
       "<Figure size 432x288 with 1 Axes>"
      ]
     },
     "metadata": {
      "needs_background": "light"
     },
     "output_type": "display_data"
    }
   ],
   "source": [
    "# example)\n",
    "\n",
    "population_growth = [0.3, -0.78, 1.26, 0.03, 1,11, 15.17, 0.24, -0.24, -0.47, -0.77, -0.37,\n",
    "                    -0.85, -0.41, -0.27, -0.76, 2.66]\n",
    "\n",
    "population_elder = [12.27, 14.44, 11.87, 18.75, 17.52, 9.29, 16.37, 19.78, 19.51, 12.65, 14.75,\n",
    "                   10.72, 21.94, 12.83, 15.51, 17.14, 14.42]\n",
    "\n",
    "#plt show\n",
    "plt.plot(population_growth, population_elder, \"bo\")\n",
    "plt.xlabel(\"population_growth\")\n",
    "plt.ylabel(\"population_elder\")\n",
    "plt.show()"
   ]
  },
  {
   "cell_type": "markdown",
   "metadata": {},
   "source": [
    "### 1.2) Finding the regression line\n",
    "<img src = \"https://mblogthumb-phinf.pstatic.net/20121017_218/istech7_1350462307972ffTme_PNG/%C8%B8%B1%CD%BD%C41.png?type=w2\" width =200>\n",
    "<center>[ Regression ]</center><hr>\n",
    "source : https://m.blog.naver.com/PostView.nhn?blogId=istech7&logNo=50152615207&proxyReferer=https:%2F%2Fwww.google.com%2F"
   ]
  },
  {
   "cell_type": "code",
   "execution_count": 18,
   "metadata": {},
   "outputs": [
    {
     "name": "stdout",
     "output_type": "stream",
     "text": [
      "0.46975530671103416\n"
     ]
    }
   ],
   "source": [
    "X = [0.3, -0.78, 1.26, 0.03, 1,11, 15.17, 0.24, -0.24, -0.47, -0.77, -0.37,\n",
    "                    -0.85, -0.41, -0.27, -0.76, 2.66]\n",
    "\n",
    "Y = [12.27, 14.44, 11.87, 18.75, 17.52, 9.29, 16.37, 19.78, 19.51, 12.65, 14.75,\n",
    "                   10.72, 21.94, 12.83, 15.51, 17.14, 14.42]\n",
    "\n",
    "# Generate single Random number\n",
    "print(random.random())\n",
    "\n",
    "# init w and b by Random number\n",
    "w = tf.Variable(random.random())\n",
    "b = tf.Variable(random.random())\n",
    "\n",
    "# return loss value\n",
    "def return_loss():\n",
    "    #dot Opeertaion\n",
    "    y_pred = w*X + b\n",
    "    \n",
    "    #Mean Square Error\n",
    "    loss = tf.reduce_mean((y_pred - Y)**2)\n",
    "    return loss"
   ]
  },
  {
   "cell_type": "code",
   "execution_count": 19,
   "metadata": {},
   "outputs": [
    {
     "name": "stdout",
     "output_type": "stream",
     "text": [
      "99 w :  0.44342816  b :  7.2576404  loss :  71.87518\n",
      "199 w :  0.11835968  b :  11.602959  loss :  24.78438\n",
      "299 w :  -0.061349194  b :  14.018619  loss :  13.051779\n",
      "399 w :  -0.13989107  b :  15.074892  loss :  11.165307\n",
      "499 w :  -0.16671163  b :  15.435606  loss :  10.973177\n",
      "599 w :  -0.17389597  b :  15.53223  loss :  10.960794\n",
      "699 w :  -0.17540678  b :  15.55255  loss :  10.960293\n",
      "799 w :  -0.17565471  b :  15.555885  loss :  10.96028\n",
      "899 w :  -0.17568585  b :  15.556305  loss :  10.96028\n",
      "999 w :  -0.17568809  b :  15.556334  loss :  10.96028\n"
     ]
    }
   ],
   "source": [
    "# set optimazer, We are going to use \"Adam\" \n",
    "optimizer = tf.optimizers.Adam(lr=0.07)\n",
    "\n",
    "for i in range(1000):\n",
    "    # minimize the loss(error) --> optimizer.minimize(loss_function, var_list= [weight, bias])\n",
    "    optimizer.minimize(return_loss, var_list = [w, b])\n",
    "    \n",
    "    if i % 100 == 99:\n",
    "        print(i, 'w : ', w.numpy(), ' b : ', b.numpy(), ' loss : ', return_loss().numpy())"
   ]
  },
  {
   "cell_type": "code",
   "execution_count": 20,
   "metadata": {},
   "outputs": [
    {
     "data": {
      "image/png": "[encoded data removed]",
      "text/plain": [
       "<Figure size 432x288 with 1 Axes>"
      ]
     },
     "metadata": {
      "needs_background": "light"
     },
     "output_type": "display_data"
    }
   ],
   "source": [
    "# draw the Regression Line\n",
    "line_x = np.arange(min(X), max(X), 0.01)\n",
    "line_y = w*line_x + b\n",
    "\n",
    "plt.plot(line_x, line_y, 'g-')\n",
    "plt.plot(X, Y, 'bo')\n",
    "plt.xlabel(\"population_growth Rate (%)\")\n",
    "plt.ylabel(\"population_elder Rate (%)\")\n",
    "plt.show()"
   ]
  },
  {
   "cell_type": "markdown",
   "metadata": {},
   "source": [
    "### 1.3) Polynomial regression\n",
    "    - If use Polynomial regression, have to change \"return_loss\" function\n",
    "<img src= \"https://mblogthumb-phinf.pstatic.net/20121017_110/istech7_1350462391952pA4Xv_PNG/%C8%B8%B1%CD%BD%C43.png?type=w2\" width = 200>\n",
    "<center>[ Polynomial Regression ]</center><hr>\n",
    "source : https://m.blog.naver.com/PostView.nhn?blogId=istech7&logNo=50152615207&proxyReferer=https:%2F%2Fwww.google.com%2F"
   ]
  },
  {
   "cell_type": "code",
   "execution_count": 21,
   "metadata": {},
   "outputs": [
    {
     "name": "stdout",
     "output_type": "stream",
     "text": [
      "0.7628188898881733\n",
      "99 w :  -0.17568809  b :  7.3586063  loss :  69.004974\n",
      "199 w :  -0.17568809  b :  11.668825  loss :  23.119621\n",
      "299 w :  -0.17568809  b :  14.03354  loss :  11.767961\n",
      "399 w :  -0.17568809  b :  15.050654  loss :  9.892591\n",
      "499 w :  -0.17568809  b :  15.392998  loss :  9.669647\n",
      "599 w :  -0.17568809  b :  15.48464  loss :  9.646083\n",
      "699 w :  -0.17568809  b :  15.504729  loss :  9.643383\n",
      "799 w :  -0.17568809  b :  15.508562  loss :  9.643071\n",
      "899 w :  -0.17568809  b :  15.509273  loss :  9.6430435\n",
      "999 w :  -0.17568809  b :  15.5094185  loss :  9.643039\n"
     ]
    }
   ],
   "source": [
    "X = [0.3, -0.78, 1.26, 0.03, 1,11, 15.17, 0.24, -0.24, -0.47, -0.77, -0.37,\n",
    "                    -0.85, -0.41, -0.27, -0.76, 2.66]\n",
    "\n",
    "Y = [12.27, 14.44, 11.87, 18.75, 17.52, 9.29, 16.37, 19.78, 19.51, 12.65, 14.75,\n",
    "                   10.72, 21.94, 12.83, 15.51, 17.14, 14.42]\n",
    "\n",
    "# Generate single Random number\n",
    "print(random.random())\n",
    "\n",
    "# init w1, w2 and b by Random number\n",
    "w1 = tf.Variable(random.random())\n",
    "w2 = tf.Variable(random.random())\n",
    "b = tf.Variable(random.random())\n",
    "\n",
    "# return loss value\n",
    "def return_loss():\n",
    "    #dot Opeertaion\n",
    "    y_pred = w1*X*X + w2*X + b\n",
    "    \n",
    "    #Mean Square Error\n",
    "    loss = tf.reduce_mean((y_pred - Y)**2)\n",
    "    return loss\n",
    "\n",
    "# set optimazer, We are going to use \"Adam\" \n",
    "optimizer = tf.optimizers.Adam(lr=0.07)\n",
    "\n",
    "for i in range(1000):\n",
    "    # minimize the loss(error) --> optimizer.minimize(loss_function, var_list= [weight, bias])\n",
    "    optimizer.minimize(return_loss, var_list = [w1, w2, b])\n",
    "    \n",
    "    if i % 100 == 99:\n",
    "        print(i, 'w : ', w.numpy(), ' b : ', b.numpy(), ' loss : ', return_loss().numpy())"
   ]
  },
  {
   "cell_type": "code",
   "execution_count": 22,
   "metadata": {},
   "outputs": [
    {
     "data": {
      "image/png": "[encoded data removed]",
      "text/plain": [
       "<Figure size 432x288 with 1 Axes>"
      ]
     },
     "metadata": {
      "needs_background": "light"
     },
     "output_type": "display_data"
    }
   ],
   "source": [
    "# draw the Regression Line\n",
    "line_x = np.arange(min(X), max(X), 0.01)\n",
    "line_y = w1*line_x*line_x + w2*line_x + b\n",
    "\n",
    "plt.plot(line_x, line_y, 'g-')\n",
    "plt.plot(X, Y, 'bo')\n",
    "plt.xlabel(\"population_growth Rate (%)\")\n",
    "plt.ylabel(\"population_elder Rate (%)\")\n",
    "plt.show()"
   ]
  },
  {
   "cell_type": "markdown",
   "metadata": {},
   "source": [
    "### 1.4) Linear Regression using Deep Leaning Network"
   ]
  },
  {
   "cell_type": "code",
   "execution_count": 1,
   "metadata": {},
   "outputs": [],
   "source": [
    "#use same data\n",
    "X = [0.3, -0.78, 1.26, 0.03, 1,11, 15.17, 0.24, -0.24, -0.47, -0.77, -0.37,\n",
    "                    -0.85, -0.41, -0.27, -0.76, 2.66]\n",
    "\n",
    "Y = [12.27, 14.44, 11.87, 18.75, 17.52, 9.29, 16.37, 19.78, 19.51, 12.65, 14.75,\n",
    "                   10.72, 21.94, 12.83, 15.51, 17.14, 14.42]"
   ]
  },
  {
   "cell_type": "code",
   "execution_count": 4,
   "metadata": {},
   "outputs": [
    {
     "name": "stdout",
     "output_type": "stream",
     "text": [
      "Model: \"sequential\"\n",
      "_________________________________________________________________\n",
      "Layer (type)                 Output Shape              Param #   \n",
      "=================================================================\n",
      "dense (Dense)                (None, 6)                 12        \n",
      "_________________________________________________________________\n",
      "dense_1 (Dense)              (None, 1)                 7         \n",
      "=================================================================\n",
      "Total params: 19\n",
      "Trainable params: 19\n",
      "Non-trainable params: 0\n",
      "_________________________________________________________________\n"
     ]
    }
   ],
   "source": [
    "#Create model\n",
    "model = tf.keras.Sequential([\n",
    "    tf.keras.layers.Dense(units = 6, activation='tanh', input_shape=(1,)),\n",
    "    tf.keras.layers.Dense(units = 1)\n",
    "])\n",
    "\n",
    "#set model\n",
    "model.compile(optimizer=tf.keras.optimizers.Adam(lr=0.1), loss='mse')\n",
    "\n",
    "# summary\n",
    "model.summary()"
   ]
  },
  {
   "cell_type": "code",
   "execution_count": 13,
   "metadata": {},
   "outputs": [
    {
     "name": "stdout",
     "output_type": "stream",
     "text": [
      "Epoch 1/10\n",
      "1/1 [==============================] - 0s 598us/step - loss: 11.2339\n",
      "Epoch 2/10\n",
      "1/1 [==============================] - 0s 1ms/step - loss: 11.1835\n",
      "Epoch 3/10\n",
      "1/1 [==============================] - 0s 1ms/step - loss: 11.1432\n",
      "Epoch 4/10\n",
      "1/1 [==============================] - 0s 1ms/step - loss: 11.1130\n",
      "Epoch 5/10\n",
      "1/1 [==============================] - 0s 2ms/step - loss: 11.0919\n",
      "Epoch 6/10\n",
      "1/1 [==============================] - 0s 754us/step - loss: 11.0785\n",
      "Epoch 7/10\n",
      "1/1 [==============================] - 0s 725us/step - loss: 11.0706\n",
      "Epoch 8/10\n",
      "1/1 [==============================] - 0s 854us/step - loss: 11.0661\n",
      "Epoch 9/10\n",
      "1/1 [==============================] - 0s 989us/step - loss: 11.0630\n",
      "Epoch 10/10\n",
      "1/1 [==============================] - 0s 1ms/step - loss: 11.0594\n"
     ]
    }
   ],
   "source": [
    "history = model.fit(X, Y, epochs = 10)"
   ]
  },
  {
   "cell_type": "code",
   "execution_count": 14,
   "metadata": {},
   "outputs": [
    {
     "data": {
      "text/plain": [
       "array([[16.34591  ],\n",
       "       [16.070827 ],\n",
       "       [15.914057 ],\n",
       "       [16.336956 ],\n",
       "       [16.135914 ],\n",
       "       [11.8442955],\n",
       "       [11.844341 ],\n",
       "       [16.347208 ],\n",
       "       [16.291407 ],\n",
       "       [16.22171  ],\n",
       "       [16.076937 ],\n",
       "       [16.255835 ],\n",
       "       [16.025364 ],\n",
       "       [16.242926 ],\n",
       "       [16.284033 ],\n",
       "       [16.082952 ],\n",
       "       [13.045042 ]], dtype=float32)"
      ]
     },
     "execution_count": 14,
     "metadata": {},
     "output_type": "execute_result"
    }
   ],
   "source": [
    "# prediction\n",
    "model.predict(X)"
   ]
  },
  {
   "cell_type": "code",
   "execution_count": 15,
   "metadata": {},
   "outputs": [
    {
     "data": {
      "image/png": "[encoded data removed]",
      "text/plain": [
       "<Figure size 432x288 with 1 Axes>"
      ]
     },
     "metadata": {
      "needs_background": "light"
     },
     "output_type": "display_data"
    }
   ],
   "source": [
    "# Draw Regression Line\n",
    "line_x = np.arange(min(X), max(X), 0.01)\n",
    "line_y = model.predict(line_x)\n",
    "\n",
    "plt.plot(line_x, line_y, 'g-')\n",
    "plt.plot(X, Y, 'bo')\n",
    "plt.xlabel(\"population_growth Rate (%)\")\n",
    "plt.ylabel(\"population_elder Rate (%)\")\n",
    "plt.show()"
   ]
  },
  {
   "cell_type": "code",
   "execution_count": 16,
   "metadata": {},
   "outputs": [
    {
     "data": {
      "image/png": "[encoded data removed]",
      "text/plain": [
       "<Figure size 432x288 with 1 Axes>"
      ]
     },
     "metadata": {
      "needs_background": "light"
     },
     "output_type": "display_data"
    }
   ],
   "source": [
    "plt.plot(history.history['loss'])\n",
    "plt.show()"
   ]
  },
  {
   "cell_type": "markdown",
   "metadata": {},
   "source": [
    "### 1.5) Boston_hosing DataSet and Linear Regression"
   ]
  },
  {
   "cell_type": "code",
   "execution_count": 23,
   "metadata": {},
   "outputs": [],
   "source": [
    "# BostonHosing dataset is in tensorflow\n",
    "from tensorflow.keras.datasets import boston_housing as BH"
   ]
  },
  {
   "cell_type": "code",
   "execution_count": 24,
   "metadata": {},
   "outputs": [
    {
     "name": "stdout",
     "output_type": "stream",
     "text": [
      "Downloading data from https://storage.googleapis.com/tensorflow/tf-keras-datasets/boston_housing.npz\n",
      "57344/57026 [==============================] - 0s 1us/step\n"
     ]
    }
   ],
   "source": [
    "# boston_housing dataset Load\n",
    "(train_X, train_Y), (test_X, test_Y) = BH.load_data()"
   ]
  },
  {
   "cell_type": "code",
   "execution_count": 33,
   "metadata": {
    "scrolled": true
   },
   "outputs": [
    {
     "name": "stdout",
     "output_type": "stream",
     "text": [
      "Train_X : \t 404 , Train_Y : \t 404\n",
      "Test_X : \t 102 , Test_Y : \t 102\n",
      "\n",
      "The Form of Train_X Data : \n",
      " [  1.23247   0.        8.14      0.        0.538     6.142    91.7\n",
      "   3.9769    4.      307.       21.      396.9      18.72   ]\n",
      "The Form of Train_Y Data :  15.2\n"
     ]
    }
   ],
   "source": [
    "# number of boston_hosing dataset\n",
    "print(\"Train_X : \\t\", len(train_X), \", Train_Y : \\t\" ,len(train_Y))\n",
    "print(\"Test_X : \\t\", len(test_X), \", Test_Y : \\t\" ,len(test_Y))\n",
    "print()\n",
    "print(\"The Form of Train_X Data : \\n\", train_X[0])\n",
    "print(\"The Form of Train_Y Data : \", train_Y[0])"
   ]
  },
  {
   "cell_type": "markdown",
   "metadata": {},
   "source": [
    "<img src = \"https://img1.daumcdn.net/thumb/R1280x0/?scode=mtistory2&fname=https%3A%2F%2Fblog.kakaocdn.net%2Fdn%2FN6dM7%2FbtqzHZUt3Ew%2FNWIKVV0fRVyvhy4CqyoFh1%2Fimg.png\">\n",
    "<center> [standardization formula] </center>"
   ]
  },
  {
   "cell_type": "code",
   "execution_count": 37,
   "metadata": {},
   "outputs": [
    {
     "name": "stdout",
     "output_type": "stream",
     "text": [
      "The Form of Standardization Train_X Data : \n",
      " [-0.27224633 -0.48361547 -0.43576161 -0.25683275 -0.1652266  -0.1764426\n",
      "  0.81306188  0.1166983  -0.62624905 -0.59517003  1.14850044  0.44807713\n",
      "  0.8252202 ]\n",
      "The Form of Standardization Train_Y Data :  -0.782152603377916\n"
     ]
    }
   ],
   "source": [
    "# Data Standardization\n",
    "\n",
    "# get mean and std \n",
    "x_mean = train_X.mean(axis = 0)\n",
    "x_std = train_X.std(axis = 0)\n",
    "\n",
    "y_mean = train_Y.mean(axis = 0)\n",
    "y_std = train_Y.std(axis = 0)\n",
    "\n",
    "#Do Standardization Formula\n",
    "train_X -= x_mean\n",
    "train_X /= x_std\n",
    "test_X -= x_mean\n",
    "test_X /= x_std\n",
    "\n",
    "train_Y -= y_mean\n",
    "train_Y /= y_std\n",
    "test_Y -= y_mean\n",
    "test_Y /= y_std\n",
    "\n",
    "#check the Standardization\n",
    "print(\"The Form of Standardization Train_X Data : \\n\", train_X[0])\n",
    "print(\"The Form of Standardization Train_Y Data : \",train_Y[0])"
   ]
  },
  {
   "cell_type": "code",
   "execution_count": 38,
   "metadata": {},
   "outputs": [],
   "source": [
    "# create model\n",
    "model = tf.keras.Sequential([\n",
    "    tf.keras.layers.Dense(units=52, activation='relu', input_shape =(13,)),\n",
    "    tf.keras.layers.Dense(units=39, activation='relu'),\n",
    "    tf.keras.layers.Dense(units=26, activation='relu'),\n",
    "    tf.keras.layers.Dense(units=1)\n",
    "])"
   ]
  },
  {
   "cell_type": "code",
   "execution_count": 40,
   "metadata": {},
   "outputs": [],
   "source": [
    "#set model\n",
    "model.compile(optimizer=tf.keras.optimizers.Adam(lr=0.07), loss='mse')"
   ]
  },
  {
   "cell_type": "code",
   "execution_count": 41,
   "metadata": {},
   "outputs": [
    {
     "name": "stdout",
     "output_type": "stream",
     "text": [
      "Model: \"sequential_1\"\n",
      "_________________________________________________________________\n",
      "Layer (type)                 Output Shape              Param #   \n",
      "=================================================================\n",
      "dense_2 (Dense)              (None, 52)                728       \n",
      "_________________________________________________________________\n",
      "dense_3 (Dense)              (None, 39)                2067      \n",
      "_________________________________________________________________\n",
      "dense_4 (Dense)              (None, 26)                1040      \n",
      "_________________________________________________________________\n",
      "dense_5 (Dense)              (None, 1)                 27        \n",
      "=================================================================\n",
      "Total params: 3,862\n",
      "Trainable params: 3,862\n",
      "Non-trainable params: 0\n",
      "_________________________________________________________________\n"
     ]
    }
   ],
   "source": [
    "# model summary\n",
    "model.summary()"
   ]
  },
  {
   "cell_type": "code",
   "execution_count": 42,
   "metadata": {},
   "outputs": [
    {
     "name": "stdout",
     "output_type": "stream",
     "text": [
      "Epoch 1/25\n",
      "10/10 [==============================] - 0s 12ms/step - loss: 7.0615 - val_loss: 1.3149\n",
      "Epoch 2/25\n",
      "10/10 [==============================] - 0s 2ms/step - loss: 0.5752 - val_loss: 0.7968\n",
      "Epoch 3/25\n",
      "10/10 [==============================] - 0s 2ms/step - loss: 0.4614 - val_loss: 0.5747\n",
      "Epoch 4/25\n",
      "10/10 [==============================] - 0s 2ms/step - loss: 0.3233 - val_loss: 0.4357\n",
      "Epoch 5/25\n",
      "10/10 [==============================] - 0s 2ms/step - loss: 0.2928 - val_loss: 0.4167\n",
      "Epoch 6/25\n",
      "10/10 [==============================] - 0s 2ms/step - loss: 0.2683 - val_loss: 0.3849\n",
      "Epoch 7/25\n",
      "10/10 [==============================] - 0s 2ms/step - loss: 0.2496 - val_loss: 0.2850\n",
      "Epoch 8/25\n",
      "10/10 [==============================] - 0s 2ms/step - loss: 0.1911 - val_loss: 0.2741\n",
      "Epoch 9/25\n",
      "10/10 [==============================] - 0s 2ms/step - loss: 0.1708 - val_loss: 0.2526\n",
      "Epoch 10/25\n",
      "10/10 [==============================] - 0s 2ms/step - loss: 0.1551 - val_loss: 0.2029\n",
      "Epoch 11/25\n",
      "10/10 [==============================] - 0s 2ms/step - loss: 0.1493 - val_loss: 0.2146\n",
      "Epoch 12/25\n",
      "10/10 [==============================] - 0s 2ms/step - loss: 0.1302 - val_loss: 0.2394\n",
      "Epoch 13/25\n",
      "10/10 [==============================] - 0s 2ms/step - loss: 0.1811 - val_loss: 0.2780\n",
      "Epoch 14/25\n",
      "10/10 [==============================] - 0s 2ms/step - loss: 0.1844 - val_loss: 0.2713\n",
      "Epoch 15/25\n",
      "10/10 [==============================] - 0s 2ms/step - loss: 0.1646 - val_loss: 0.2419\n",
      "Epoch 16/25\n",
      "10/10 [==============================] - 0s 2ms/step - loss: 0.1458 - val_loss: 0.1640\n",
      "Epoch 17/25\n",
      "10/10 [==============================] - 0s 2ms/step - loss: 0.1094 - val_loss: 0.1708\n",
      "Epoch 18/25\n",
      "10/10 [==============================] - 0s 2ms/step - loss: 0.1138 - val_loss: 0.1873\n",
      "Epoch 19/25\n",
      "10/10 [==============================] - 0s 2ms/step - loss: 0.0986 - val_loss: 0.1354\n",
      "Epoch 20/25\n",
      "10/10 [==============================] - 0s 2ms/step - loss: 0.1183 - val_loss: 0.1933\n",
      "Epoch 21/25\n",
      "10/10 [==============================] - 0s 2ms/step - loss: 0.1201 - val_loss: 0.1714\n",
      "Epoch 22/25\n",
      "10/10 [==============================] - 0s 2ms/step - loss: 0.0879 - val_loss: 0.1364\n",
      "Epoch 23/25\n",
      "10/10 [==============================] - 0s 2ms/step - loss: 0.0906 - val_loss: 0.1432\n",
      "Epoch 24/25\n",
      "10/10 [==============================] - 0s 2ms/step - loss: 0.0807 - val_loss: 0.1278\n",
      "Epoch 25/25\n",
      "10/10 [==============================] - 0s 2ms/step - loss: 0.0788 - val_loss: 0.1287\n"
     ]
    }
   ],
   "source": [
    "# Learning model\n",
    "history = model.fit(train_X, train_Y, epochs=25, batch_size = 32, validation_split=0.25)"
   ]
  },
  {
   "cell_type": "code",
   "execution_count": 44,
   "metadata": {},
   "outputs": [
    {
     "data": {
      "image/png": "[encoded data removed]",
      "text/plain": [
       "<Figure size 432x288 with 1 Axes>"
      ]
     },
     "metadata": {
      "needs_background": "light"
     },
     "output_type": "display_data"
    }
   ],
   "source": [
    "# visualize result\n",
    "plt.plot(history.history['loss'], 'b--', label='loss')\n",
    "plt.plot(history.history['val_loss'], 'r--', label='val_loss')\n",
    "plt.xlabel(\"Epoch\")\n",
    "plt.legend()\n",
    "plt.show()"
   ]
  },
  {
   "cell_type": "code",
   "execution_count": 61,
   "metadata": {},
   "outputs": [
    {
     "name": "stdout",
     "output_type": "stream",
     "text": [
      "4/4 [==============================] - 0s 623us/step - loss: 0.3189\n",
      "\n",
      "Test Loss :  0.3189305067062378\n"
     ]
    }
   ],
   "source": [
    "# evaluate model using test data\n",
    "testLoss = model.evaluate(test_X, test_Y)\n",
    "print(\"\\nTest Loss : \", testLoss)"
   ]
  },
  {
   "cell_type": "code",
   "execution_count": 72,
   "metadata": {},
   "outputs": [
    {
     "data": {
      "image/png": "[encoded data removed]",
      "text/plain": [
       "<Figure size 360x360 with 1 Axes>"
      ]
     },
     "metadata": {
      "needs_background": "light"
     },
     "output_type": "display_data"
    }
   ],
   "source": [
    "# compare with Real and Prediction\n",
    "pred_Y = model.predict(test_X)\n",
    "\n",
    "plt.figure(figsize =(5,5))\n",
    "plt.plot(test_Y, pred_Y, 'b.')\n",
    "plt.axis([min(test_Y), max(test_Y), min(test_Y), max(test_Y)])\n",
    "\n",
    "# Because the Real and prediction are compared, the points should be similar to the x=y line.\n",
    "plt.plot([min(test_Y), max(test_Y)],[min(test_Y), max(test_Y)], ls='-.', c=\".5\")\n",
    "\n",
    "plt.xlabel(\"test_Y\")\n",
    "plt.ylabel(\"pred_Y\")\n",
    "\n",
    "plt.show()"
   ]
  },
  {
   "cell_type": "markdown",
   "metadata": {},
   "source": [
    "### 1.6) Boston_hosing DataSet and Linear Regression using EarlyStopping\n",
    "    -EarlyStopping Function prevents to do overfitting."
   ]
  },
  {
   "cell_type": "code",
   "execution_count": 73,
   "metadata": {},
   "outputs": [],
   "source": [
    "# we can choose callback function in model.fit() function\n",
    "# create model\n",
    "model = tf.keras.Sequential([\n",
    "    tf.keras.layers.Dense(units=52, activation='relu', input_shape =(13,)),\n",
    "    tf.keras.layers.Dense(units=39, activation='relu'),\n",
    "    tf.keras.layers.Dense(units=26, activation='relu'),\n",
    "    tf.keras.layers.Dense(units=1)\n",
    "])\n",
    "\n",
    "#set model\n",
    "model.compile(optimizer=tf.keras.optimizers.Adam(lr=0.07), loss='mse')"
   ]
  },
  {
   "cell_type": "code",
   "execution_count": 93,
   "metadata": {},
   "outputs": [
    {
     "name": "stdout",
     "output_type": "stream",
     "text": [
      "Epoch 1/25\n",
      "10/10 [==============================] - 0s 4ms/step - loss: 0.0496 - val_loss: 0.1227\n",
      "Epoch 2/25\n",
      "10/10 [==============================] - 0s 2ms/step - loss: 0.0457 - val_loss: 0.1287\n",
      "Epoch 3/25\n",
      "10/10 [==============================] - 0s 2ms/step - loss: 0.0550 - val_loss: 0.1292\n",
      "Epoch 4/25\n",
      "10/10 [==============================] - 0s 2ms/step - loss: 0.0485 - val_loss: 0.1166\n",
      "Epoch 5/25\n",
      "10/10 [==============================] - 0s 2ms/step - loss: 0.0686 - val_loss: 0.1457\n",
      "Epoch 6/25\n",
      "10/10 [==============================] - 0s 2ms/step - loss: 0.0588 - val_loss: 0.1216\n",
      "Epoch 7/25\n",
      "10/10 [==============================] - 0s 2ms/step - loss: 0.0448 - val_loss: 0.1286\n"
     ]
    }
   ],
   "source": [
    "# choose ballback function --> patience is how many times I'll see and stop, monitor = criterion\n",
    "#set model\n",
    "history = model.fit(train_X, train_Y, epochs=25, batch_size = 32, validation_split=0.25,\n",
    "                   callbacks=[tf.keras.callbacks.EarlyStopping(patience=3, monitor = 'val_loss')])"
   ]
  },
  {
   "cell_type": "code",
   "execution_count": 94,
   "metadata": {},
   "outputs": [
    {
     "data": {
      "image/png": "[encoded data removed]",
      "text/plain": [
       "<Figure size 432x288 with 1 Axes>"
      ]
     },
     "metadata": {
      "needs_background": "light"
     },
     "output_type": "display_data"
    }
   ],
   "source": [
    "# visualize result\n",
    "plt.plot(history.history['loss'], 'b--', label='loss')\n",
    "plt.plot(history.history['val_loss'], 'r--', label='val_loss')\n",
    "plt.xlabel(\"Epoch\")\n",
    "plt.legend()\n",
    "plt.show()"
   ]
  },
  {
   "cell_type": "code",
   "execution_count": 95,
   "metadata": {},
   "outputs": [
    {
     "name": "stdout",
     "output_type": "stream",
     "text": [
      "4/4 [==============================] - 0s 604us/step - loss: 0.1208\n",
      "\n",
      "Test Loss :  0.12075740098953247\n"
     ]
    }
   ],
   "source": [
    "# evaluate model using test data\n",
    "testLoss = model.evaluate(test_X, test_Y)\n",
    "print(\"\\nTest Loss : \", testLoss)"
   ]
  },
  {
   "cell_type": "code",
   "execution_count": 96,
   "metadata": {},
   "outputs": [
    {
     "data": {
      "image/png": "[encoded data removed]",
      "text/plain": [
       "<Figure size 360x360 with 1 Axes>"
      ]
     },
     "metadata": {
      "needs_background": "light"
     },
     "output_type": "display_data"
    }
   ],
   "source": [
    "# compare with Real and Prediction\n",
    "pred_Y = model.predict(test_X)\n",
    "\n",
    "plt.figure(figsize =(5,5))\n",
    "plt.plot(test_Y, pred_Y, 'b.')\n",
    "plt.axis([min(test_Y), max(test_Y), min(test_Y), max(test_Y)])\n",
    "\n",
    "# Because the Real and prediction are compared, the points should be similar to the x=y line.\n",
    "plt.plot([min(test_Y), max(test_Y)],[min(test_Y), max(test_Y)], ls='-.', c=\".5\")\n",
    "\n",
    "plt.xlabel(\"test_Y\")\n",
    "plt.ylabel(\"pred_Y\")\n",
    "\n",
    "plt.show()"
   ]
  },
  {
   "cell_type": "code",
   "execution_count": null,
   "metadata": {},
   "outputs": [],
   "source": []
  }
 ],
 "metadata": {
  "kernelspec": {
   "display_name": "tf2.0",
   "language": "python",
   "name": "tf2.0"
  },
  "language_info": {
   "codemirror_mode": {
    "name": "ipython",
    "version": 3
   },
   "file_extension": ".py",
   "mimetype": "text/x-python",
   "name": "python",
   "nbconvert_exporter": "python",
   "pygments_lexer": "ipython3",
   "version": "3.8.5"
  }
 },
 "nbformat": 4,
 "nbformat_minor": 4
}
