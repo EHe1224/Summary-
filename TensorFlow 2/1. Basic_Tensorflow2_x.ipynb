{
 "cells": [
  {
   "cell_type": "code",
   "execution_count": 2,
   "metadata": {},
   "outputs": [],
   "source": [
    "import tensorflow as tf\n",
    "import numpy as np"
   ]
  },
  {
   "cell_type": "code",
   "execution_count": 3,
   "metadata": {},
   "outputs": [
    {
     "name": "stdout",
     "output_type": "stream",
     "text": [
      "2.3.0-rc2\n"
     ]
    }
   ],
   "source": [
    "print(tf.__version__)"
   ]
  },
  {
   "cell_type": "markdown",
   "metadata": {},
   "source": [
    "## Random Number Generation\n",
    "    1. Uniform Distribution\n",
    "    2. Normal Distribution\n",
    "    \n",
    "    - It is often used to initialize Xavier initialization or He initialization to uniform distribution and normal distribution."
   ]
  },
  {
   "cell_type": "markdown",
   "metadata": {},
   "source": [
    "### 1. Uniform Distribution"
   ]
  },
  {
   "cell_type": "code",
   "execution_count": 27,
   "metadata": {},
   "outputs": [
    {
     "name": "stdout",
     "output_type": "stream",
     "text": [
      "tf.Tensor([0.559607   0.7199688  0.54677033], shape=(3,), dtype=float32)\n",
      "\n",
      "tf.Tensor(\n",
      "[[6.7494    6.8478413]\n",
      " [6.6953325 6.144216 ]], shape=(2, 2), dtype=float32)\n"
     ]
    }
   ],
   "source": [
    "#tf.random.uniform([Array Form], Min/Max, Min/Max)\n",
    "rand = tf.random.uniform([3], 0,1)\n",
    "print(rand, end='\\n\\n')\n",
    "\n",
    "rand = tf.random.uniform([2, 2], 7, 6)\n",
    "print(rand)"
   ]
  },
  {
   "cell_type": "markdown",
   "metadata": {},
   "source": [
    "### 2. Normal Distribution"
   ]
  },
  {
   "cell_type": "code",
   "execution_count": 25,
   "metadata": {},
   "outputs": [
    {
     "name": "stdout",
     "output_type": "stream",
     "text": [
      "tf.Tensor([ 0.16978043 -0.31404006  1.0518095 ], shape=(3,), dtype=float32)\n",
      "\n",
      "tf.Tensor(\n",
      "[[7.0097485 6.992703 ]\n",
      " [6.986709  6.9992127]], shape=(2, 2), dtype=float32)\n"
     ]
    }
   ],
   "source": [
    "#tf.random.normal([Array Form], Mean, stdev)\n",
    "#ex)\n",
    "rand = tf.random.normal([3], 0,1)\n",
    "print(rand, end='\\n\\n')\n",
    "\n",
    "rand = tf.random.normal([2, 2], 7,0.01)\n",
    "print(rand)"
   ]
  },
  {
   "cell_type": "markdown",
   "metadata": {},
   "source": [
    "# Generating Neurons"
   ]
  },
  {
   "cell_type": "markdown",
   "metadata": {},
   "source": [
    "## 1. Activation Funtion(Sigmoid)\n",
    "<img src=\"https://upload.wikimedia.org/wikipedia/commons/thumb/8/88/Logistic-curve.svg/1920px-Logistic-curve.svg.png\" alt=\"drawing\" width=\"300\"/>\n",
    "source : https://upload.wikimedia.org/wikipedia/commons/thumb/8/88/Logistic-curve.svg/1920px-Logistic-curve.svg.png"
   ]
  },
  {
   "cell_type": "code",
   "execution_count": 28,
   "metadata": {},
   "outputs": [],
   "source": [
    "import math\n",
    "def sigmoid(x):\n",
    "    return 1 / (1 + math.exp(-x))"
   ]
  },
  {
   "cell_type": "code",
   "execution_count": 46,
   "metadata": {},
   "outputs": [
    {
     "name": "stdout",
     "output_type": "stream",
     "text": [
      "-7 : 0.00091\n",
      "-6 : 0.00247\n",
      "-5 : 0.00669\n",
      "-4 : 0.01799\n",
      "-3 : 0.04743\n",
      "-2 : 0.1192\n",
      "-1 : 0.26894\n",
      "0 : 0.5\n",
      "1 : 0.73106\n",
      "2 : 0.8808\n",
      "3 : 0.95257\n",
      "4 : 0.98201\n",
      "5 : 0.99331\n",
      "6 : 0.99753\n"
     ]
    }
   ],
   "source": [
    "for i in range(-7,7):\n",
    "    output = sigmoid(i)\n",
    "    print(i, \":\", round(output, 5))"
   ]
  },
  {
   "cell_type": "markdown",
   "metadata": {},
   "source": [
    "## 2. Learning Nuerons using gradient descent\n",
    "<hr>\n",
    "<h4>gradient descent</h4>\n",
    "<img src=\"https://cdn-images-1.medium.com/max/600/1*iNPHcCxIvcm7RwkRaMTx1g.jpeg\" alt=\"drawing\" width=\"300\"/>\n",
    "<img src=\"https://miro.medium.com/max/741/1*UkIjo17ovvd4deEEt-KgWA.png\" alt=\"drawing\" width=\"300\"/>\n",
    "<h4>Mean Squiared Error</h4>\n",
    "<img src=\"https://www.oreilly.com/library/view/mastering-tensorflow-1x/9781788292061/assets/7d7ddfc3-4bef-4f9b-986e-cdade675cf82.png\" alt=\"drawing\" width=\"300\"/>\n",
    "<hr>\n",
    "source : https://www.oreilly.com/library/view/mastering-tensorflow-1x/9781788292061/1c0264af-ba5c-43d3-bb24-ba18d489dd39.xhtml<hr>\n",
    "source : https://medium.com/@peteryun/ml-%EB%AA%A8%EB%91%90%EB%A5%BC-%EC%9C%84%ED%95%9C-tensorflow-3-gradient-descent-algorithm-%EA%B8%B0%EB%B3%B8-c0688208fc59<hr>\n",
    "source : https://mc.ai/an-introduction-to-gradient-descent-2/"
   ]
  },
  {
   "cell_type": "markdown",
   "metadata": {},
   "source": [
    "### 2-1. Without bias, Learning Weight"
   ]
  },
  {
   "cell_type": "code",
   "execution_count": 89,
   "metadata": {},
   "outputs": [
    {
     "name": "stdout",
     "output_type": "stream",
     "text": [
      "Repetition \t Error \t Output\n",
      "0 \t: 0.246588 \t 0.503424\n",
      "1000 \t: 0.195344 \t 0.558022\n",
      "2000 \t: 0.159238 \t 0.600954\n",
      "3000 \t: 0.133023 \t 0.635277\n",
      "4000 \t: 0.113417 \t 0.663225\n",
      "5000 \t: 0.098353 \t 0.686387\n",
      "6000 \t: 0.086503 \t 0.705886\n",
      "7000 \t: 0.076987 \t 0.722535\n",
      "8000 \t: 0.069208 \t 0.736925\n",
      "9000 \t: 0.062751 \t 0.749498\n"
     ]
    }
   ],
   "source": [
    "inputValue = 0.1\n",
    "target = 1\n",
    "weigth = tf.random.normal([1], 0, 1)\n",
    "\n",
    "print(\"Repetition \\t Error \\t Output\")\n",
    "\n",
    "for i in range(10000):\n",
    "    output = sigmoid(inputValue*weigth)\n",
    "    error_ = (target - output)**2\n",
    "    weigth = weigth + inputValue*0.1*error_\n",
    "\n",
    "    if( i % 1000 == 0):\n",
    "        print(i, \"\\t:\", round(error_, 6), \"\\t\", round(output,6))"
   ]
  },
  {
   "cell_type": "markdown",
   "metadata": {},
   "source": [
    "### 2-2. using bias, Learning Weight"
   ]
  },
  {
   "cell_type": "code",
   "execution_count": 91,
   "metadata": {},
   "outputs": [
    {
     "name": "stdout",
     "output_type": "stream",
     "text": [
      "Repetition \t Error \t Output\n",
      "0 \t: 0.055851 \t 0.763671\n",
      "100 \t: 0.029293 \t 0.828849\n",
      "200 \t: 0.019507 \t 0.860333\n",
      "300 \t: 0.014519 \t 0.879506\n",
      "400 \t: 0.01152 \t 0.892667\n",
      "500 \t: 0.009528 \t 0.902389\n",
      "600 \t: 0.008112 \t 0.909934\n",
      "700 \t: 0.007055 \t 0.916003\n",
      "800 \t: 0.006238 \t 0.921017\n",
      "900 \t: 0.005588 \t 0.925248\n"
     ]
    }
   ],
   "source": [
    "inputValue = 0.1\n",
    "target = 1\n",
    "weigth = tf.random.normal([1], 0, 1)\n",
    "bias   = tf.random.normal([1], 0, 1)\n",
    "\n",
    "print(\"Repetition \\t Error \\t Output\")\n",
    "\n",
    "for i in range(1000):\n",
    "    output = sigmoid(inputValue*weigth + bias)\n",
    "    error_ = (target - output)**2\n",
    "    weigth = weigth + inputValue*0.1*error_\n",
    "    bias   = bias   + 1 * 0.1 * error_\n",
    "\n",
    "    if( i % 100 == 0):\n",
    "        print(i, \"\\t:\", round(error_, 6), \"\\t\", round(output,6))"
   ]
  },
  {
   "cell_type": "markdown",
   "metadata": {},
   "source": [
    "## 3.  Learning Weight for Solving AND Problem and OR Problem\n",
    "<img src=\"https://t1.daumcdn.net/cfile/tistory/231E9B4455961D0616\" alt=\"drawing\" width=\"500\"/><hr>\n",
    "<img src=\"https://simonjisu.github.io/assets/ML/perceptron/perceptron_2.png\" alt=\"drawing\" width=\"800\"/><hr>\n",
    "\n",
    "source : https://simonjisu.github.io/numpyseries/2017/12/07/numpywithnn_1.html<hr>\n",
    "source : https://thrillfighter.tistory.com/265<hr>"
   ]
  },
  {
   "cell_type": "markdown",
   "metadata": {},
   "source": [
    "### 3-1) AND Problem"
   ]
  },
  {
   "cell_type": "code",
   "execution_count": 125,
   "metadata": {},
   "outputs": [],
   "source": [
    "import numpy as np"
   ]
  },
  {
   "cell_type": "code",
   "execution_count": 169,
   "metadata": {},
   "outputs": [],
   "source": [
    "#initialize (AND Problem)\n",
    "x = np.array([[1,1],[1,0],[0,1],[0,0]])\n",
    "y = np.array([[1],[0],[0],[0]])\n",
    "\n",
    "weight_ = tf.random.normal([2],0,1)\n",
    "bias_ = tf.random.normal([1], 0,1)"
   ]
  },
  {
   "cell_type": "code",
   "execution_count": 159,
   "metadata": {},
   "outputs": [
    {
     "name": "stdout",
     "output_type": "stream",
     "text": [
      "0 : -2.206629\n",
      "300 : -0.084117\n",
      "600 : -0.047253\n",
      "900 : -0.032669\n",
      "1200 : -0.024887\n",
      "1500 : -0.020067\n",
      "1800 : -0.016793\n",
      "2100 : -0.014432\n",
      "2400 : -0.012645\n",
      "2700 : -0.011251\n",
      "3000 : -0.01013\n"
     ]
    }
   ],
   "source": [
    "for i in range(3001):\n",
    "    error_sum = 0\n",
    "    \n",
    "    for j in range(len(x)):\n",
    "        output = sigmoid(np.sum(x[j]*weight_)+bias_)\n",
    "        error = y[j][0] - output\n",
    "        weight_ = weight_ + 0.1*x[j]*error\n",
    "        bias_   = bias_+0.1*error\n",
    "        \n",
    "        #total error\n",
    "        error_sum += error\n",
    "        \n",
    "    if (i % 300 == 0):\n",
    "        print(i, \":\", round(error_sum,6))"
   ]
  },
  {
   "cell_type": "code",
   "execution_count": 160,
   "metadata": {},
   "outputs": [
    {
     "name": "stdout",
     "output_type": "stream",
     "text": [
      "X : [1 1] Y :  [1] Output :  1.0\n",
      "X : [1 0] Y :  [0] Output :  0.0\n",
      "X : [0 1] Y :  [0] Output :  0.0\n",
      "X : [0 0] Y :  [0] Output :  0.0\n"
     ]
    }
   ],
   "source": [
    "for i in range(len(x)):\n",
    "    print('X :', x[i], 'Y : ', y[i], 'Output : ', round(sigmoid(np.sum(x[i]*weight_)+bias_),1))"
   ]
  },
  {
   "cell_type": "markdown",
   "metadata": {},
   "source": [
    "### 3-2) OR Problem"
   ]
  },
  {
   "cell_type": "code",
   "execution_count": 161,
   "metadata": {},
   "outputs": [],
   "source": [
    "#initialize (OR Problem)\n",
    "x = np.array([[1,1],[1,0],[0,1],[0,0]])\n",
    "y = np.array([[1],[1],[1],[0]])\n",
    "\n",
    "weight_ = tf.random.normal([2],0,1)\n",
    "bias_ = tf.random.normal([1], 0,1)"
   ]
  },
  {
   "cell_type": "code",
   "execution_count": 162,
   "metadata": {},
   "outputs": [
    {
     "name": "stdout",
     "output_type": "stream",
     "text": [
      "0 : 1.288315\n",
      "300 : -0.03301\n",
      "600 : -0.017066\n",
      "900 : -0.011447\n",
      "1200 : -0.008588\n",
      "1500 : -0.006863\n",
      "1800 : -0.005712\n",
      "2100 : -0.004888\n",
      "2400 : -0.004271\n",
      "2700 : -0.003792\n",
      "3000 : -0.003408\n"
     ]
    }
   ],
   "source": [
    "for i in range(3001):\n",
    "    error_sum = 0\n",
    "    \n",
    "    for j in range(len(x)):\n",
    "        output = sigmoid(np.sum(x[j]*weight_)+bias_)\n",
    "        error = y[j][0] - output\n",
    "        weight_ = weight_ + 0.1*x[j]*error\n",
    "        bias_   = bias_+0.1*error\n",
    "        \n",
    "        #total error\n",
    "        error_sum += error\n",
    "        \n",
    "    if (i % 300 == 0):\n",
    "        print(i, \":\", round(error_sum,6))"
   ]
  },
  {
   "cell_type": "code",
   "execution_count": 163,
   "metadata": {},
   "outputs": [
    {
     "name": "stdout",
     "output_type": "stream",
     "text": [
      "X : [1 1] Y :  [1] Output :  1.0\n",
      "X : [1 0] Y :  [1] Output :  1.0\n",
      "X : [0 1] Y :  [1] Output :  1.0\n",
      "X : [0 0] Y :  [0] Output :  0.0\n"
     ]
    }
   ],
   "source": [
    "for i in range(len(x)):\n",
    "    print('X :', x[i], 'Y : ', y[i], 'Output : ', round(sigmoid(np.sum(x[i]*weight_)+bias_), 1))"
   ]
  },
  {
   "cell_type": "markdown",
   "metadata": {},
   "source": [
    "### 3-3) XOR Problem\n",
    "#### -A single Vector can't solve this problem\n",
    "<img src=\"https://simonjisu.github.io/assets/ML/perceptron/perceptron_3.png\" alt=\"drawing\" width=\"300\"/><hr>\n",
    "<img src=\"https://mblogthumb-phinf.pstatic.net/MjAxOTA4MTdfMTk5/MDAxNTY2MDAzNjg4MTE3.9y3O_1k4p8-zUeEP7sN_WYWkIB4rElVMl8isWkFZAN8g.8tblY85F4FGg3YjYZrSvKendg4882tkB4Z3vg4sPmRwg.PNG.cni1577/%EC%BA%A1%EC%B2%98.PNG?type=w800\" alt=\"drawing\" width=\"300\"/><hr>\n",
    "\n",
    "source : https://simonjisu.github.io/numpyseries/2017/12/07/numpywithnn_1.html<hr>\n",
    "source : https://m.blog.naver.com/PostView.nhn?blogId=cni1577&logNo=221619153912&proxyReferer=https:%2F%2Fwww.google.com%2F<hr>\n"
   ]
  },
  {
   "cell_type": "code",
   "execution_count": 164,
   "metadata": {},
   "outputs": [],
   "source": [
    "#initialize (XOR Problem)\n",
    "x = np.array([[1,1],[1,0],[0,1],[0,0]])\n",
    "y = np.array([[0],[1],[1],[0]])\n",
    "\n",
    "weight_ = tf.random.normal([2],0,1)\n",
    "bias_ = tf.random.normal([1], 0,1)"
   ]
  },
  {
   "cell_type": "code",
   "execution_count": 165,
   "metadata": {},
   "outputs": [
    {
     "name": "stdout",
     "output_type": "stream",
     "text": [
      "0 : 0.183885\n",
      "300 : -0.001086\n",
      "600 : -9e-06\n",
      "900 : -0.0\n",
      "1200 : 0.0\n",
      "1500 : 0.0\n",
      "1800 : 0.0\n",
      "2100 : 0.0\n",
      "2400 : 0.0\n",
      "2700 : 0.0\n",
      "3000 : 0.0\n"
     ]
    }
   ],
   "source": [
    "for i in range(3001):\n",
    "    error_sum = 0\n",
    "    \n",
    "    for j in range(len(x)):\n",
    "        output = sigmoid(np.sum(x[j]*weight_)+bias_)\n",
    "        error = y[j][0] - output\n",
    "        weight_ = weight_ + 0.1*x[j]*error\n",
    "        bias_   = bias_+0.1*error\n",
    "        \n",
    "        #total error\n",
    "        error_sum += error\n",
    "        \n",
    "    if (i % 300 == 0):\n",
    "        print(i, \":\", round(error_sum,6))"
   ]
  },
  {
   "cell_type": "code",
   "execution_count": 167,
   "metadata": {},
   "outputs": [
    {
     "name": "stdout",
     "output_type": "stream",
     "text": [
      "X : [1 1] Y :  [0] Output :  0.5\n",
      "X : [1 0] Y :  [1] Output :  0.5\n",
      "X : [0 1] Y :  [1] Output :  0.5\n",
      "X : [0 0] Y :  [0] Output :  0.5\n"
     ]
    }
   ],
   "source": [
    "for i in range(len(x)):\n",
    "    print('X :', x[i], 'Y : ', y[i], 'Output : ', round(sigmoid(np.sum(x[i]*weight_)+bias_), 1))"
   ]
  },
  {
   "cell_type": "markdown",
   "metadata": {},
   "source": [
    "### 3-4) Making model for XOR using Keras\n",
    "<hr>\n",
    "<h5>-We are going to use \"tf.Keras.Sequential\" function</h5>\n",
    "<h5>-There have two vector in Keras model</h5>"
   ]
  },
  {
   "cell_type": "code",
   "execution_count": 4,
   "metadata": {},
   "outputs": [],
   "source": [
    "import numpy as np"
   ]
  },
  {
   "cell_type": "code",
   "execution_count": 5,
   "metadata": {},
   "outputs": [],
   "source": [
    "#initialize (XOR Problem)\n",
    "x = np.array([[1,1],[1,0],[0,1],[0,0]])\n",
    "y = np.array([[0],[1],[1],[0]])"
   ]
  },
  {
   "cell_type": "code",
   "execution_count": 6,
   "metadata": {},
   "outputs": [],
   "source": [
    "#making model\n",
    "\n",
    "# /***It is structure that combines neurons in a row***/  # \n",
    "model = tf.keras.Sequential([\n",
    "    tf.keras.layers.Dense(units=2, activation = \"sigmoid\", input_shape=(2,)),\n",
    "    tf.keras.layers.Dense(units=1, activation = \"sigmoid\")\n",
    "])"
   ]
  },
  {
   "cell_type": "code",
   "execution_count": 7,
   "metadata": {},
   "outputs": [],
   "source": [
    "#setting model\n",
    "\n",
    "# /*** choosing optimizer & loss function  ***/\n",
    "model.compile(optimizer=tf.keras.optimizers.SGD(lr=0.1), loss='mse')"
   ]
  },
  {
   "cell_type": "code",
   "execution_count": 8,
   "metadata": {},
   "outputs": [
    {
     "name": "stdout",
     "output_type": "stream",
     "text": [
      "Model: \"sequential\"\n",
      "_________________________________________________________________\n",
      "Layer (type)                 Output Shape              Param #   \n",
      "=================================================================\n",
      "dense (Dense)                (None, 2)                 6         \n",
      "_________________________________________________________________\n",
      "dense_1 (Dense)              (None, 1)                 3         \n",
      "=================================================================\n",
      "Total params: 9\n",
      "Trainable params: 9\n",
      "Non-trainable params: 0\n",
      "_________________________________________________________________\n"
     ]
    }
   ],
   "source": [
    "#Checking model\n",
    "model.summary()"
   ]
  },
  {
   "cell_type": "code",
   "execution_count": 9,
   "metadata": {},
   "outputs": [
    {
     "name": "stdout",
     "output_type": "stream",
     "text": [
      "4/4 [==============================] - 0s 619us/step - loss: 0.2725\n"
     ]
    }
   ],
   "source": [
    "#) You can can change epochs or batch_size\n",
    "history = model.fit(x, y, epochs=1, batch_size = 1, use_multiprocessing = True)"
   ]
  },
  {
   "cell_type": "code",
   "execution_count": 10,
   "metadata": {},
   "outputs": [
    {
     "name": "stdout",
     "output_type": "stream",
     "text": [
      "***Result***\n",
      "[[0.58001035]\n",
      " [0.60359627]\n",
      " [0.63308024]\n",
      " [0.6623903 ]]\n",
      "\n",
      "\n",
      "***Round***\n",
      "tf.Tensor(\n",
      "[[1.]\n",
      " [1.]\n",
      " [1.]\n",
      " [1.]], shape=(4, 1), dtype=float32)\n"
     ]
    }
   ],
   "source": [
    "#How to Predict \n",
    "print(\"***Result***\")\n",
    "print(model.predict(x))\n",
    "\n",
    "# Round Prediction Value\n",
    "print(\"\\n\\n***Round***\")\n",
    "print(tf.math.round(model.predict(x)))"
   ]
  },
  {
   "cell_type": "code",
   "execution_count": 11,
   "metadata": {},
   "outputs": [
    {
     "name": "stdout",
     "output_type": "stream",
     "text": [
      "Model: \"sequential\"\n",
      "_________________________________________________________________\n",
      "Layer (type)                 Output Shape              Param #   \n",
      "=================================================================\n",
      "dense (Dense)                (None, 2)                 6         \n",
      "_________________________________________________________________\n",
      "dense_1 (Dense)              (None, 1)                 3         \n",
      "=================================================================\n",
      "Total params: 9\n",
      "Trainable params: 9\n",
      "Non-trainable params: 0\n",
      "_________________________________________________________________\n",
      "\n",
      "\n",
      "\n",
      "<tf.Variable 'dense/kernel:0' shape=(2, 2) dtype=float32, numpy=\n",
      "array([[ 0.18967673, -0.826773  ],\n",
      "       [ 0.696571  , -0.43893507]], dtype=float32)>\n",
      "\n",
      "<tf.Variable 'dense/bias:0' shape=(2,) dtype=float32, numpy=array([-0.00060787, -0.00596694], dtype=float32)>\n",
      "\n",
      "<tf.Variable 'dense_1/kernel:0' shape=(2, 1) dtype=float32, numpy=\n",
      "array([[0.08124571],\n",
      "       [1.3166714 ]], dtype=float32)>\n",
      "\n",
      "<tf.Variable 'dense_1/bias:0' shape=(1,) dtype=float32, numpy=array([-0.02301765], dtype=float32)>\n",
      "\n"
     ]
    }
   ],
   "source": [
    "#check the Weight & Bias\n",
    "model.summary()\n",
    "\n",
    "print(\"\\n\\n\")\n",
    "\n",
    "for weight in model.weights:\n",
    "    print(weight, end = \"\\n\\n\")"
   ]
  },
  {
   "cell_type": "markdown",
   "metadata": {},
   "source": [
    "# 4. Visualization\n",
    "    -to check the learning result"
   ]
  },
  {
   "cell_type": "code",
   "execution_count": 12,
   "metadata": {},
   "outputs": [],
   "source": [
    "import matplotlib.pyplot as plt"
   ]
  },
  {
   "cell_type": "code",
   "execution_count": 48,
   "metadata": {},
   "outputs": [
    {
     "data": {
      "image/png": "[encoded data removed]",
      "text/plain": [
       "<Figure size 432x288 with 1 Axes>"
      ]
     },
     "metadata": {
      "needs_background": "light"
     },
     "output_type": "display_data"
    },
    {
     "data": {
      "image/png": "[encoded data removed]",
      "text/plain": [
       "<Figure size 432x288 with 1 Axes>"
      ]
     },
     "metadata": {
      "needs_background": "light"
     },
     "output_type": "display_data"
    },
    {
     "data": {
      "image/png": "[encoded data removed]",
      "text/plain": [
       "<Figure size 432x288 with 1 Axes>"
      ]
     },
     "metadata": {
      "needs_background": "light"
     },
     "output_type": "display_data"
    }
   ],
   "source": [
    "#ex) How to do visualization\n",
    "x = range(20)\n",
    "y = tf.random.normal([20], 0, 1)\n",
    "plt.plot(x, y)\n",
    "plt.show()\n",
    "\n",
    "#ex) marking with the point\n",
    "plt.plot(x, y, 'bo')\n",
    "plt.show()\n",
    "\n",
    "plt.plot(x, y, 'r--')\n",
    "plt.show()"
   ]
  },
  {
   "cell_type": "code",
   "execution_count": 13,
   "metadata": {},
   "outputs": [
    {
     "data": {
      "image/png": "[encoded data removed]",
      "text/plain": [
       "<Figure size 432x288 with 1 Axes>"
      ]
     },
     "metadata": {
      "needs_background": "light"
     },
     "output_type": "display_data"
    }
   ],
   "source": [
    "# plotting history that has learning error\n",
    "plt.plot(history.history['loss'])\n",
    "plt.show()"
   ]
  },
  {
   "cell_type": "code",
   "execution_count": null,
   "metadata": {},
   "outputs": [],
   "source": []
  }
 ],
 "metadata": {
  "kernelspec": {
   "display_name": "tf2.0",
   "language": "python",
   "name": "tf2.0"
  },
  "language_info": {
   "codemirror_mode": {
    "name": "ipython",
    "version": 3
   },
   "file_extension": ".py",
   "mimetype": "text/x-python",
   "name": "python",
   "nbconvert_exporter": "python",
   "pygments_lexer": "ipython3",
   "version": "3.8.5"
  }
 },
 "nbformat": 4,
 "nbformat_minor": 4
}
